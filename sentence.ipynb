{
 "cells": [
  {
   "cell_type": "code",
   "execution_count": 5,
   "metadata": {},
   "outputs": [
    {
     "name": "stdout",
     "output_type": "stream",
     "text": [
      "Your original sentence is The old, dilapidated house stood on a hill overlooking the town, its windows like vacant eyes staring out into the distance, and a weathered, paint-peeling porch that sagged under the weight of years of neglect, while inside, dust motes danced in the shafts of sunlight that pierced through cracks in the walls, illuminating forgotten relics of a life once lived within those very rooms, filled with laughter and love but now echoing with silence and the whispers of ghosts.\n",
      "First half of the sentence is The old, dilapidated house stood on a hill overlooking the town, its windows like vacant eyes staring out into the distance, and a weathered, paint-peeling porch that sagged under the weight of years of neglect, while inside, dust motes \n",
      "Second half of the sentence is danced in the shafts of sunlight that pierced through cracks in the walls, illuminating forgotten relics of a life once lived within those very rooms, filled with laughter and love but now echoing with silence and the whispers of ghosts.\n",
      "The sentence with the first half reversed and the second half normal is  setom tsud ,edisni elihw ,tcelgen fo sraey fo thgiew eht rednu deggas taht hcrop gnileep-tniap ,derehtaew a dna ,ecnatsid eht otni tuo gnirats seye tnacav ekil swodniw sti ,nwot eht gnikoolrevo llih a no doots esuoh detadipalid ,dlo ehTdanced in the shafts of sunlight that pierced through cracks in the walls, illuminating forgotten relics of a life once lived within those very rooms, filled with laughter and love but now echoing with silence and the whispers of ghosts.\n"
     ]
    }
   ],
   "source": [
    "sentence = input(\"enter a long sentence\")\n",
    "print(\"Your original sentence is\",sentence)\n",
    "sentencelength = len(sentence)\n",
    "halfsentence = sentencelength/2\n",
    "halfsentence = int(halfsentence)\n",
    "firsthalf = sentence[0:halfsentence]\n",
    "firsthalfrev = firsthalf[::-1]\n",
    "secondhalf = sentence[halfsentence:]\n",
    "print(\"First half of the sentence is\",firsthalf)\n",
    "print(\"Second half of the sentence is\",secondhalf)\n",
    "print(\"The sentence with the first half reversed and the second half normal is\",firsthalfrev+secondhalf)\n",
    "\n"
   ]
  }
 ],
 "metadata": {
  "kernelspec": {
   "display_name": "Python 3",
   "language": "python",
   "name": "python3"
  },
  "language_info": {
   "codemirror_mode": {
    "name": "ipython",
    "version": 3
   },
   "file_extension": ".py",
   "mimetype": "text/x-python",
   "name": "python",
   "nbconvert_exporter": "python",
   "pygments_lexer": "ipython3",
   "version": "3.13.1"
  }
 },
 "nbformat": 4,
 "nbformat_minor": 2
}
