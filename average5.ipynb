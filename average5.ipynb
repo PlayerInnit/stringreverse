{
 "cells": [
  {
   "cell_type": "code",
   "execution_count": null,
   "metadata": {},
   "outputs": [
    {
     "name": "stdout",
     "output_type": "stream",
     "text": [
      "1,2,3,4,5\n",
      "Your original 5 numbers are ['1', '2', '3', '4', '5']\n",
      "The average of your 5 numbers are 3.0\n"
     ]
    }
   ],
   "source": [
    "numbers = input(\"please enter 5 numbers seperated by commas\")\n",
    "print(numbers)\n",
    "numbers = numbers.split(\",\")\n",
    "firstnum =int(numbers[0])\n",
    "secondnum =int(numbers[1])\n",
    "thirdnum =int(numbers[2])\n",
    "fourthnum =int(numbers[3])\n",
    "fifthnum =int(numbers[4])\n",
    "numbertotal = firstnum+secondnum+thirdnum+fourthnum+fifthnum\n",
    "numberavg = numbertotal/5\n",
    "print(\"Your original 5 numbers are\",numbers)\n",
    "print(\"The average of your 5 numbers are\",numberavg)\n",
    "# The code is rectified\n",
    "\n",
    "\n"
   ]
  }
 ],
 "metadata": {
  "kernelspec": {
   "display_name": "Python 3",
   "language": "python",
   "name": "python3"
  },
  "language_info": {
   "codemirror_mode": {
    "name": "ipython",
    "version": 3
   },
   "file_extension": ".py",
   "mimetype": "text/x-python",
   "name": "python",
   "nbconvert_exporter": "python",
   "pygments_lexer": "ipython3",
   "version": "3.13.1"
  }
 },
 "nbformat": 4,
 "nbformat_minor": 2
}
